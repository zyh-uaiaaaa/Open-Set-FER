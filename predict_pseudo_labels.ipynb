{
 "cells": [
  {
   "cell_type": "code",
   "execution_count": 2,
   "id": "bfc35c4e",
   "metadata": {},
   "outputs": [
    {
     "data": {
      "text/plain": [
       "<All keys matched successfully>"
      ]
     },
     "execution_count": 2,
     "metadata": {},
     "output_type": "execute_result"
    }
   ],
   "source": [
    "import os\n",
    "import cv2\n",
    "import csv\n",
    "import math\n",
    "import random\n",
    "import numpy as np\n",
    "import pandas as pd\n",
    "import argparse\n",
    "\n",
    "import torch\n",
    "import torch.nn as nn\n",
    "import torchvision\n",
    "from torchvision import transforms\n",
    "import torchvision.models as models\n",
    "import torch.utils.data as data\n",
    "import torch.nn.functional as F\n",
    "from torch.autograd import Variable\n",
    "\n",
    "\n",
    "from utils import *\n",
    "from resnet import *\n",
    "\n",
    "\n",
    "test_num = 0 ##### open class number\n",
    "\n",
    "\n",
    "class RafDataset(data.Dataset):\n",
    "    def __init__(self, args, phase, basic_aug=True, transform=None):\n",
    "        self.raf_path = args.raf_path\n",
    "        self.phase = phase\n",
    "        self.basic_aug = basic_aug\n",
    "        self.transform = transform\n",
    "        df = pd.read_csv(args.label_path, sep=' ', header=None)\n",
    "\n",
    "        name_c = 0\n",
    "        label_c = 1\n",
    "        if phase == 'train':\n",
    "            dataset = df[df[name_c].str.startswith('train')]\n",
    "        else:\n",
    "            dataset = df[df[name_c].str.startswith('test')]\n",
    "\n",
    "        \n",
    "        \n",
    "        self.label = dataset.iloc[:, label_c].values - 1\n",
    "        images_names = dataset.iloc[:, name_c].values\n",
    "        \n",
    "\n",
    "\n",
    "        \n",
    "        \n",
    "        self.aug_func = [flip_image, add_g]\n",
    "        self.file_paths = []\n",
    "\n",
    "        for f in images_names:\n",
    "            f = f.split(\".\")[0]\n",
    "            f += '_aligned.jpg'\n",
    "            file_name = os.path.join(self.raf_path, 'Image/aligned', f)\n",
    "            self.file_paths.append(file_name)\n",
    "            \n",
    "\n",
    "    def __len__(self):\n",
    "        return len(self.file_paths)\n",
    "\n",
    "    def __getitem__(self, idx):\n",
    "        label = self.label[idx]\n",
    "        image = cv2.imread(self.file_paths[idx])\n",
    "        image = image[:, :, ::-1]\n",
    "\n",
    "        if self.phase == 'train':\n",
    "\n",
    "            if self.basic_aug and random.uniform(0, 1) > 0.5:\n",
    "                index = random.randint(0, 1)\n",
    "                image = self.aug_func[index](image)\n",
    "\n",
    "        if self.transform is not None:\n",
    "            image = self.transform(image)\n",
    "        \n",
    "\n",
    "        return image, label, idx\n",
    "    \n",
    "\n",
    "class Flatten(nn.Module):\n",
    "    def forward(self, input):\n",
    "        return input.view(input.size(0), -1)\n",
    "    \n",
    "class res18feature(nn.Module):\n",
    "    def __init__(self, pretrained=True, num_classes=6, drop_rate=0.4, out_dim=64):\n",
    "        super(res18feature, self).__init__()\n",
    "        #'affectnet_baseline/resnet18_msceleb.pth'\n",
    "        res18 = ResNet(block=BasicBlock, layers=[2, 2, 2, 2], num_classes=1000)\n",
    "        \n",
    "        msceleb_model = torch.load('./checkpoint/resnet18_msceleb.pth')\n",
    "        state_dict = msceleb_model['state_dict']\n",
    "        res18.load_state_dict(state_dict, strict=False)\n",
    "        self.out_dim = out_dim\n",
    "        self.features = nn.Sequential(*list(res18.children())[:-2])\n",
    "        self.features2 = nn.Sequential(*list(res18.children())[-2:-1])\n",
    "        self.fc = nn.Linear(args.out_dimension, 6)\n",
    "        \n",
    "        self.parm={}\n",
    "        for name,parameters in self.fc.named_parameters():\n",
    "            self.parm[name]=parameters\n",
    "            \n",
    "    def forward(self, x, target, phase='train'):\n",
    "        x = self.features(x)        \n",
    "        x = self.features2(x)\n",
    "        x = x.view(x.size(0), -1)\n",
    "        output = self.fc(x)\n",
    "        return output\n",
    "\n",
    "\n",
    "\n",
    "\n",
    "\n",
    "parser = argparse.ArgumentParser()\n",
    "parser.add_argument('--raf_path', type=str, default='../data/raf-basic',help='raf_dataset_path')\n",
    "parser.add_argument('--pretrained_backbone_path', type=str, default='../checkpoint/resnet18_msceleb.pth', help='pretrained_backbone_path')\n",
    "parser.add_argument('--label_path', type=str, default='../data/raf-basic/EmoLabel/list_patition_label.txt', help='label_path')\n",
    "parser.add_argument('--workers', type=int, default=8, help='number of workers')\n",
    "parser.add_argument('--batch_size', type=int, default=128, help='batch_size')\n",
    "parser.add_argument('--epochs', type=int, default=60, help='number of epochs')\n",
    "parser.add_argument('--out_dimension', type=int, default=512, help='feature dimension')\n",
    "args = parser.parse_args(args=[])\n",
    "\n",
    "\n",
    "setup_seed(0)\n",
    "res18 = res18feature(args)\n",
    "\n",
    "        \n",
    "\n",
    "data_transforms = transforms.Compose([\n",
    "    transforms.ToPILImage(),\n",
    "    transforms.Resize((224, 224)),\n",
    "    transforms.ToTensor(),\n",
    "    transforms.Normalize(mean=[0.485, 0.456, 0.406],\n",
    "                         std=[0.229, 0.224, 0.225]) ])\n",
    "\n",
    "data_transforms_val = transforms.Compose([\n",
    "    transforms.ToPILImage(),\n",
    "    transforms.Resize((224, 224)),\n",
    "    transforms.ToTensor(),\n",
    "    transforms.Normalize(mean=[0.485, 0.456, 0.406],\n",
    "                         std=[0.229, 0.224, 0.225]) ])\n",
    "\n",
    "train_dataset = RafDataset(args, phase='train', transform=data_transforms)\n",
    "train_loader = torch.utils.data.DataLoader(train_dataset,\n",
    "                                           batch_size=args.batch_size,\n",
    "                                           shuffle=True,\n",
    "                                           num_workers=args.workers,\n",
    "                                           pin_memory=True)\n",
    "\n",
    "\n",
    "\n",
    "res18.cuda()\n",
    "res18 = torch.nn.DataParallel(res18)\n",
    "\n",
    "params = res18.parameters()\n",
    "res18.module.load_state_dict(torch.load('0.pth')['model_state_dict'])"
   ]
  },
  {
   "cell_type": "code",
   "execution_count": 5,
   "id": "35acd786",
   "metadata": {},
   "outputs": [
    {
     "name": "stderr",
     "output_type": "stream",
     "text": [
      "[W pthreadpool-cpp.cc:90] Warning: Leaking Caffe2 thread-pool after fork. (function pthreadpool)\n",
      "[W pthreadpool-cpp.cc:90] Warning: Leaking Caffe2 thread-pool after fork. (function pthreadpool)\n",
      "[W pthreadpool-cpp.cc:90] Warning: Leaking Caffe2 thread-pool after fork. (function pthreadpool)\n",
      "[W pthreadpool-cpp.cc:90] Warning: Leaking Caffe2 thread-pool after fork. (function pthreadpool)\n",
      "[W pthreadpool-cpp.cc:90] Warning: Leaking Caffe2 thread-pool after fork. (function pthreadpool)\n",
      "[W pthreadpool-cpp.cc:90] Warning: Leaking Caffe2 thread-pool after fork. (function pthreadpool)\n",
      "[W pthreadpool-cpp.cc:90] Warning: Leaking Caffe2 thread-pool after fork. (function pthreadpool)\n",
      "[W pthreadpool-cpp.cc:90] Warning: Leaking Caffe2 thread-pool after fork. (function pthreadpool)\n",
      "[W pthreadpool-cpp.cc:90] Warning: Leaking Caffe2 thread-pool after fork. (function pthreadpool)\n",
      "[W pthreadpool-cpp.cc:90] Warning: Leaking Caffe2 thread-pool after fork. (function pthreadpool)\n"
     ]
    },
    {
     "name": "stdout",
     "output_type": "stream",
     "text": [
      "end...\n"
     ]
    }
   ],
   "source": [
    "class TESTRAF(data.Dataset):\n",
    "    def __init__(self, args, phase, basic_aug=True, transform=None):\n",
    "        self.raf_path = args.raf_path\n",
    "        self.phase = phase\n",
    "        self.basic_aug = basic_aug\n",
    "        self.transform = transform\n",
    "        df = pd.read_csv(args.label_path, sep=' ', header=None)\n",
    "        name_c = 0\n",
    "        label_c = 1\n",
    "\n",
    "        dataset = df[df[name_c].str.startswith('test')]\n",
    "        \n",
    "        \n",
    "        self.label = dataset.iloc[:, label_c].values - 1\n",
    "        images_names = dataset.iloc[:, name_c].values\n",
    "                \n",
    "\n",
    "        self.aug_func = [flip_image, add_g]\n",
    "        self.file_paths = []\n",
    "\n",
    "        for f in images_names:\n",
    "            f = f.split(\".\")[0]\n",
    "            f += '_aligned.jpg'\n",
    "            file_name = os.path.join(self.raf_path, 'Image/aligned', f)\n",
    "            self.file_paths.append(file_name)\n",
    "            \n",
    "\n",
    "    def __len__(self):\n",
    "        return len(self.file_paths)\n",
    "\n",
    "    def __getitem__(self, idx):\n",
    "        label = self.label[idx]\n",
    "        image = cv2.imread(self.file_paths[idx])\n",
    "        image = image[:, :, ::-1]\n",
    "        image = self.transform(image)\n",
    "        return image, label, idx\n",
    "    \n",
    "data_transforms_val = transforms.Compose([\n",
    "    transforms.ToPILImage(),\n",
    "    transforms.Resize((224, 224)),\n",
    "    transforms.ToTensor(),\n",
    "    transforms.Normalize(mean=[0.485, 0.456, 0.406],\n",
    "                         std=[0.229, 0.224, 0.225]) ])\n",
    "\n",
    "test_dataset = TESTRAF(args, phase='test', transform=data_transforms_val)\n",
    "test_loader = torch.utils.data.DataLoader(test_dataset, batch_size=args.batch_size,\n",
    "                                          shuffle=False,\n",
    "                                          num_workers=args.workers,\n",
    "                                          pin_memory=True)   \n",
    "\n",
    "\n",
    "with torch.no_grad():\n",
    "    res18.eval()\n",
    "    running_loss = 0.0\n",
    "    iter_cnt = 0\n",
    "    correct_sum = 0\n",
    "    data_num = 0\n",
    "    total = []\n",
    "    for batch_i, (imgs, labels, indexes) in enumerate(test_loader):\n",
    "        imgs = imgs.cuda()\n",
    "        labels = labels.cuda()\n",
    "        output = res18(imgs, labels, phase='test')\n",
    "\n",
    "        total.append(output.cpu().numpy())\n",
    "    print('end...')"
   ]
  },
  {
   "cell_type": "code",
   "execution_count": 6,
   "id": "a848583c",
   "metadata": {},
   "outputs": [
    {
     "name": "stdout",
     "output_type": "stream",
     "text": [
      "3068\n"
     ]
    }
   ],
   "source": [
    "new_total = np.concatenate(total)\n",
    "test_score = new_total.max(axis=-1)\n",
    "print(len(test_score))"
   ]
  },
  {
   "cell_type": "code",
   "execution_count": 7,
   "id": "56835dc4",
   "metadata": {},
   "outputs": [],
   "source": [
    "open_idx = []\n",
    "ind_idx = []\n",
    "for i in range(test_loader.dataset.__len__()):\n",
    "    if test_loader.dataset.label[i] == test_num:\n",
    "        open_idx.append(i)\n",
    "    else:\n",
    "        ind_idx.append(i)"
   ]
  },
  {
   "cell_type": "markdown",
   "id": "3aa2484d",
   "metadata": {},
   "source": [
    "## construct open-set using open-set samples from train set"
   ]
  },
  {
   "cell_type": "code",
   "execution_count": 9,
   "id": "c388028f",
   "metadata": {},
   "outputs": [
    {
     "name": "stderr",
     "output_type": "stream",
     "text": [
      "[W pthreadpool-cpp.cc:90] Warning: Leaking Caffe2 thread-pool after fork. (function pthreadpool)\n",
      "[W pthreadpool-cpp.cc:90] Warning: Leaking Caffe2 thread-pool after fork. (function pthreadpool)\n",
      "[W pthreadpool-cpp.cc:90] Warning: Leaking Caffe2 thread-pool after fork. (function pthreadpool)\n",
      "[W pthreadpool-cpp.cc:90] Warning: Leaking Caffe2 thread-pool after fork. (function pthreadpool)\n",
      "[W pthreadpool-cpp.cc:90] Warning: Leaking Caffe2 thread-pool after fork. (function pthreadpool)\n",
      "[W pthreadpool-cpp.cc:90] Warning: Leaking Caffe2 thread-pool after fork. (function pthreadpool)\n",
      "[W pthreadpool-cpp.cc:90] Warning: Leaking Caffe2 thread-pool after fork. (function pthreadpool)\n",
      "[W pthreadpool-cpp.cc:90] Warning: Leaking Caffe2 thread-pool after fork. (function pthreadpool)\n"
     ]
    },
    {
     "name": "stdout",
     "output_type": "stream",
     "text": [
      "end...\n"
     ]
    }
   ],
   "source": [
    "with torch.no_grad():\n",
    "    res18.eval()\n",
    "    running_loss = 0.0\n",
    "    iter_cnt = 0\n",
    "    correct_sum = 0\n",
    "    data_num = 0\n",
    "    train_open = []\n",
    "    for batch_i, (imgs, labels, indexes) in enumerate(train_loader):\n",
    "        imgs = imgs.cuda()\n",
    "        labels = labels.cuda()\n",
    "        output = res18(imgs, labels, phase='test')\n",
    "        train_open.append(output.cpu().numpy())\n",
    "    print('end...')"
   ]
  },
  {
   "cell_type": "markdown",
   "id": "d5d5732f",
   "metadata": {},
   "source": [
    "## find samples of open class (test_num) from train set"
   ]
  },
  {
   "cell_type": "code",
   "execution_count": 10,
   "id": "f72bc97c",
   "metadata": {},
   "outputs": [
    {
     "name": "stdout",
     "output_type": "stream",
     "text": [
      "1619\n"
     ]
    }
   ],
   "source": [
    "new_train_open = np.concatenate(train_open)\n",
    "train_score = new_train_open.max(axis=-1)\n",
    "train_open_idx = []\n",
    "for i in range(train_loader.dataset.__len__()):\n",
    "    if train_loader.dataset.label[i] == test_num:\n",
    "        train_open_idx.append(i)\n",
    "total_open_scores = np.concatenate((test_score[np.array(open_idx)], train_score[np.array(train_open_idx)]))\n",
    "print(len(total_open_scores))"
   ]
  },
  {
   "cell_type": "markdown",
   "id": "5469564c",
   "metadata": {},
   "source": [
    "## the distribution of close-set (closed class samples from test-set) and open-set (open class samples from both train-set and test-set)"
   ]
  },
  {
   "cell_type": "code",
   "execution_count": 11,
   "id": "53628cb7",
   "metadata": {},
   "outputs": [
    {
     "data": {
      "image/png": "[encoded data removed]",
      "text/plain": [
       "<Figure size 640x480 with 1 Axes>"
      ]
     },
     "metadata": {},
     "output_type": "display_data"
    }
   ],
   "source": [
    "import matplotlib.pyplot as plt\n",
    "plt.hist(test_score[np.array(ind_idx)], bins=100, alpha=0.5, color='green', label='known') \n",
    "plt.hist(total_open_scores, bins=100, alpha=0.5, color='red', label='open set(surprise)')\n",
    "plt.show()"
   ]
  },
  {
   "cell_type": "markdown",
   "id": "1c3469a8",
   "metadata": {},
   "source": [
    "## open-set detection performance`"
   ]
  },
  {
   "cell_type": "code",
   "execution_count": 12,
   "id": "1562dde1",
   "metadata": {},
   "outputs": [
    {
     "name": "stdout",
     "output_type": "stream",
     "text": [
      "0.9129092032118592\n",
      "0.43684198301431904\n"
     ]
    }
   ],
   "source": [
    "from tqdm import trange\n",
    "import numpy as np\n",
    "\n",
    "from ood_metrics import fpr_at_95_tpr\n",
    "from ood_metrics import auroc\n",
    "from tqdm import trange\n",
    "import matplotlib.pyplot as plt\n",
    "\n",
    "\n",
    "X1 = test_score[np.array(ind_idx)]\n",
    "Y1 = total_open_scores\n",
    "\n",
    "labels = np.concatenate((np.ones(len(X1)), np.zeros(len(Y1))))\n",
    "scores = np.concatenate((X1, Y1))\n",
    "fprBase = fpr_at_95_tpr(scores, labels)\n",
    "aurocBase = auroc(scores, labels)\n",
    "print(fprBase)\n",
    "print(aurocBase)"
   ]
  },
  {
   "cell_type": "markdown",
   "id": "fd1abefb",
   "metadata": {},
   "source": [
    "## generate labels"
   ]
  },
  {
   "cell_type": "code",
   "execution_count": 13,
   "id": "d40fdf58",
   "metadata": {},
   "outputs": [],
   "source": [
    "total_predicts = np.concatenate((new_total, new_train_open[np.array(train_open_idx)]))\n",
    "predicted_labels = np.argmax(total_predicts, axis=1)\n",
    "total_image_paths = np.concatenate((test_loader.dataset.file_paths, np.array(train_loader.dataset.file_paths)[np.array(train_open_idx)]))\n",
    "total_labels = np.concatenate((test_loader.dataset.label, np.array(train_loader.dataset.label)[np.array(train_open_idx)]))"
   ]
  },
  {
   "cell_type": "markdown",
   "id": "3fb9087d",
   "metadata": {},
   "source": [
    "## predict pseudo labels"
   ]
  },
  {
   "cell_type": "code",
   "execution_count": 19,
   "id": "e76dd44f",
   "metadata": {},
   "outputs": [],
   "source": [
    "new_file = open('predicted_labels_open'+str(test_num)+'.txt',\"w+\")\n",
    "for i in range(len(predicted_labels)):\n",
    "    new_file.write(total_image_paths[i] + ' ' + str(predicted_labels[i]) +'\\n')"
   ]
  },
  {
   "cell_type": "code",
   "execution_count": 20,
   "id": "1a1cb5f8",
   "metadata": {},
   "outputs": [],
   "source": [
    "open_idx = []\n",
    "ind_idx = []\n",
    "for i in range(len(total_labels)):\n",
    "    if total_labels[i] == test_num:\n",
    "        open_idx.append(i)\n",
    "    else:\n",
    "        ind_idx.append(i)"
   ]
  },
  {
   "cell_type": "code",
   "execution_count": 21,
   "id": "9fc44f60",
   "metadata": {},
   "outputs": [
    {
     "name": "stdout",
     "output_type": "stream",
     "text": [
      "1619\n"
     ]
    }
   ],
   "source": [
    "print(len(open_idx))"
   ]
  },
  {
   "cell_type": "code",
   "execution_count": 22,
   "id": "162ff253",
   "metadata": {},
   "outputs": [
    {
     "name": "stdout",
     "output_type": "stream",
     "text": [
      "2739\n"
     ]
    }
   ],
   "source": [
    "print(len(ind_idx))"
   ]
  },
  {
   "cell_type": "code",
   "execution_count": 23,
   "id": "b1eb4d95",
   "metadata": {},
   "outputs": [],
   "source": [
    "with open('predicted_labels_open'+str(test_num)+'_openset_index.txt', 'w+') as f:\n",
    "    for i in range(len(open_idx)):\n",
    "        f.write(str(open_idx[i]) +'\\n')"
   ]
  },
  {
   "cell_type": "code",
   "execution_count": null,
   "id": "48594b0e",
   "metadata": {},
   "outputs": [],
   "source": []
  }
 ],
 "metadata": {
  "kernelspec": {
   "display_name": "Python 3 (ipykernel)",
   "language": "python",
   "name": "python3"
  },
  "language_info": {
   "codemirror_mode": {
    "name": "ipython",
    "version": 3
   },
   "file_extension": ".py",
   "mimetype": "text/x-python",
   "name": "python",
   "nbconvert_exporter": "python",
   "pygments_lexer": "ipython3",
   "version": "3.8.13"
  }
 },
 "nbformat": 4,
 "nbformat_minor": 5
}
